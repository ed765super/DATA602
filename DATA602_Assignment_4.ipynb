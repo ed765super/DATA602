{
  "nbformat": 4,
  "nbformat_minor": 0,
  "metadata": {
    "colab": {
      "name": "DATA602 Assignment 4.ipynb",
      "provenance": [],
      "authorship_tag": "ABX9TyMm0J9RjyZR1c/p3pknYF8N",
      "include_colab_link": true
    },
    "kernelspec": {
      "name": "python3",
      "display_name": "Python 3"
    },
    "language_info": {
      "name": "python"
    }
  },
  "cells": [
    {
      "cell_type": "markdown",
      "metadata": {
        "id": "view-in-github",
        "colab_type": "text"
      },
      "source": [
        "<a href=\"https://colab.research.google.com/github/ed765super/DATA602/blob/main/DATA602_Assignment_4.ipynb\" target=\"_parent\"><img src=\"https://colab.research.google.com/assets/colab-badge.svg\" alt=\"Open In Colab\"/></a>"
      ]
    },
    {
      "cell_type": "markdown",
      "metadata": {
        "id": "r122rw-VsOlp"
      },
      "source": [
        "Run 1 regression on your full data set and one predictive model"
      ]
    },
    {
      "cell_type": "markdown",
      "metadata": {
        "id": "tSYbOFGJv29L"
      },
      "source": [
        "#Delete after done\n",
        "# Assignment Content\n",
        "\n",
        "This builds on the exploratory analysis you did for assignment #3. You will be submitting a link to your GitHub repository.\n",
        "\n",
        "\n",
        "\n",
        "Using the same repository you created for assignment #3:\n",
        "\n",
        "Add the cleaned up version of your data (if you needed to do pre-cleaning) to your data folder\n",
        "Create a new notebook in the main folder that will be used for your regression analysis\n",
        "\n",
        "\n",
        "## Perform regression analysis on your dataset. You'll do this from two (2) different angles:\n",
        "\n",
        "### Interpretation\n",
        "Using the full dataset, create an OLS regression model using statsmodels.\n",
        "\n",
        "Answer the following:\n",
        "* Which variables are significant and which are insignificant? \n",
        "* What is the overall explanatory power of the model? \n",
        "* Are there concerns about the residual distribution? \n",
        "* Explain what you are seeing and provide any supporting charts.\n",
        "\n",
        "### Prediction\n",
        "Using a simple training and test split, split your data into two groups - one for modeling and another for evaluation.\n",
        "Run an OLS regression and comment on the predictive performance.\n",
        "Run a Ridge or Lasso regression with a few different levels of regularization strength. Does this help or hurt performance? What happens as you increase the regularization strength? How do the coefficients compare with OLS? Explain what you are seeing and provide any supporting charts.\n",
        "\n",
        "\n",
        "# Rubric:\n",
        "\n",
        "(10%) Data and notebook are included in the GitHub repository\n",
        "\n",
        "(10%) Jupyter Notebook Markdown cells properly formatted. Major steps in the analysis should be \n",
        "described in the markdown and results should be discussed immediately after the code block.\n",
        "All code blocks have output below - no errors or cells that weren’t executed.\n",
        "Narratives are properly formatted, with correct grammar and punctuation.\n",
        "\n",
        "(10%) Output of professional quality\n",
        "Charts properly labeled (axis labels, titles, …)\n",
        "\n",
        "(70%) Completeness of regression analysis\n",
        "\n",
        "(5%) Discussion of business question / objective that is being analyzed (variable you are running the regression on and why)\n",
        "\n",
        "(15%) Interpretation model - ran the regression model, print output, discussion of results\n",
        "\n",
        "(50%) Predictive models - \n",
        "    \n",
        "* ran the OLS model (10%)\n",
        "    \n",
        "* ran the Ridge or Lasso on multiple alpha (15%)\n",
        "    \n",
        "* commented on results (5%)\n",
        "    \n",
        "* compared coefficients (10%)\n",
        "    \n",
        "* explanation of findings (10%)"
      ]
    },
    {
      "cell_type": "code",
      "metadata": {
        "id": "oYyZLlP9sLoy"
      },
      "source": [
        ""
      ],
      "execution_count": null,
      "outputs": []
    }
  ]
}