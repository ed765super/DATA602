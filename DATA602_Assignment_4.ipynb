{
  "nbformat": 4,
  "nbformat_minor": 0,
  "metadata": {
    "colab": {
      "name": "DATA602 Assignment 4.ipynb",
      "provenance": [],
      "authorship_tag": "ABX9TyO+IWVuNQmHwScEgWq49Ind",
      "include_colab_link": true
    },
    "kernelspec": {
      "name": "python3",
      "display_name": "Python 3"
    },
    "language_info": {
      "name": "python"
    }
  },
  "cells": [
    {
      "cell_type": "markdown",
      "metadata": {
        "id": "view-in-github",
        "colab_type": "text"
      },
      "source": [
        "<a href=\"https://colab.research.google.com/github/ed765super/DATA602/blob/main/DATA602_Assignment_4.ipynb\" target=\"_parent\"><img src=\"https://colab.research.google.com/assets/colab-badge.svg\" alt=\"Open In Colab\"/></a>"
      ]
    },
    {
      "cell_type": "markdown",
      "metadata": {
        "id": "r122rw-VsOlp"
      },
      "source": [
        "Run 1 regression on your full data set and one predictive model"
      ]
    },
    {
      "cell_type": "markdown",
      "metadata": {
        "id": "vcJgsfCtrBW3"
      },
      "source": [
        "#Import (and clean) data"
      ]
    },
    {
      "cell_type": "markdown",
      "metadata": {
        "id": "3SMV3JlkwKIX"
      },
      "source": [
        "# Buisness Questions and Background\n",
        "The YUGIOH trading card game was launched by Konami back in 2002. \n",
        "\n",
        "(The following explination of how yugioh is played is grabbed from the following site: https://www.dacardworld.com/gaming/yu-gi-oh-cards/how-to-play)\n",
        "\n",
        "Each match in YuGiOh consists of 3 duels in a best-of-3 format. During a duel, each player starts with 8000 Life Points and a winner is declared in one of the following ways:\n",
        "\n",
        "* Reduce your opponent's Life Points to 0\n",
        "* If and when it is time to draw a card, your opponent is unable to do so\n",
        "* With a card's special effect\n",
        "\n",
        "Before you begin a duel, you must follow these steps:\n",
        "\n",
        "* Players should shuffle their decks\n",
        "* Place all decks face-down in their specified Deck Zones\n",
        "* Players show their side deck to their opponent and count all the cards in each deck\n",
        "* If this is the first match of the duel, the winner of a coin flip or rock-paper-scissors decides which turn they would like in the duel. Otherwise,  the loser of previous duel decides who goes first\n",
        "* Draw 5 cards from the top of the Main Deck and begin.\n",
        "\n",
        "Over the years, a whole slew of cards were printed; morphing the metagame into what it is today. Ever since the prining of \"Chaos Emperor Dragon - Envoy of the End\", Konami has released updates to the ban list as a way to balance their game. However, with the release of the October 2021 banlist, it has become clear to the community that Konami intends to use their banlist more as a way to sell their upcoming products rather than balance their game. As a software developer and yugioh fan, I want to understand what drives attack levels to be as high as they are and determine whether that has any effect on what cards appear on the banlist."
      ]
    },
    {
      "cell_type": "code",
      "metadata": {
        "id": "oYyZLlP9sLoy"
      },
      "source": [
        "import pandas as pd\n",
        "import numpy as np\n",
        "import matplotlib.pyplot as plt\n",
        "%matplotlib inline\n",
        "\n",
        "yugiohCards = pd.read_csv('YGO_Cards_v2.csv', sep=',', encoding='latin-1')\n",
        "yugiohCards = yugiohCards.rename(columns={\"Unnamed: 0\": \"name\"})"
      ],
      "execution_count": 6,
      "outputs": []
    },
    {
      "cell_type": "code",
      "metadata": {
        "id": "tRR_-C2lre9n"
      },
      "source": [
        "#Convert the Datatypes\n",
        "#Note: since attack and defense can be question marks, X000, or ---, they get \n",
        "#converted to strings when \"convert_dtypes\" gets called. To combat this I will \n",
        "#be doing what \"Dueling Nexus\", a yugiohcard simulator, does in their implementation\n",
        "#of the site and use -2, -3, and -4 respectively. \n",
        "\n",
        "#similarly \"number\" has \"None\" as some of the passcodes \n",
        "#so I will be doing the same process and converting all the Nones to -1.\n",
        "yugiohCards['attack'].replace('?','-2',inplace=True)\n",
        "yugiohCards['attack'].replace('X000','-3',inplace=True)\n",
        "yugiohCards['attack'].replace('---','-4',inplace=True)\n",
        "yugiohCards['defense'].replace('?','-2',inplace=True)\n",
        "yugiohCards['defense'].replace('X000','-3',inplace=True)\n",
        "yugiohCards['defense'].replace('---','-4',inplace=True)\n",
        "yugiohCards['number'].replace('None','-1',inplace=True)\n",
        "\n",
        "yugiohCards['attack'] = pd.to_numeric(yugiohCards['attack'])\n",
        "yugiohCards['defense'] = pd.to_numeric(yugiohCards['defense'])\n",
        "yugiohCards['number'] = pd.to_numeric(yugiohCards['number'])\n",
        "\n",
        "dfConverted = yugiohCards.convert_dtypes()"
      ],
      "execution_count": 7,
      "outputs": []
    },
    {
      "cell_type": "code",
      "metadata": {
        "colab": {
          "base_uri": "https://localhost:8080/",
          "height": 1000
        },
        "id": "PQzZWaqxrkKG",
        "outputId": "aa872e43-3fd7-4c3b-cf7c-b4c840a50085"
      },
      "source": [
        "print(dfConverted.dtypes)\n",
        "dfConverted\n"
      ],
      "execution_count": 8,
      "outputs": [
        {
          "output_type": "stream",
          "name": "stdout",
          "text": [
            "name                   string\n",
            "attack                  Int64\n",
            "attribute              string\n",
            "defense                 Int64\n",
            "has_materials         boolean\n",
            "has_name_condition    boolean\n",
            "is_extra_deck         boolean\n",
            "is_fusion             boolean\n",
            "is_link               boolean\n",
            "is_pendulum           boolean\n",
            "is_synchro            boolean\n",
            "is_xyz                boolean\n",
            "link_markers           string\n",
            "link_number             Int64\n",
            "materials              string\n",
            "monster_types          string\n",
            "name_condition         string\n",
            "number                  Int64\n",
            "pendulum_left           Int64\n",
            "pendulum_right          Int64\n",
            "pendulum_text          string\n",
            "releases               string\n",
            "Type                   string\n",
            "stars                   Int64\n",
            "text                   string\n",
            "dtype: object\n"
          ]
        },
        {
          "output_type": "execute_result",
          "data": {
            "text/html": [
              "<div>\n",
              "<style scoped>\n",
              "    .dataframe tbody tr th:only-of-type {\n",
              "        vertical-align: middle;\n",
              "    }\n",
              "\n",
              "    .dataframe tbody tr th {\n",
              "        vertical-align: top;\n",
              "    }\n",
              "\n",
              "    .dataframe thead th {\n",
              "        text-align: right;\n",
              "    }\n",
              "</style>\n",
              "<table border=\"1\" class=\"dataframe\">\n",
              "  <thead>\n",
              "    <tr style=\"text-align: right;\">\n",
              "      <th></th>\n",
              "      <th>name</th>\n",
              "      <th>attack</th>\n",
              "      <th>attribute</th>\n",
              "      <th>defense</th>\n",
              "      <th>has_materials</th>\n",
              "      <th>has_name_condition</th>\n",
              "      <th>is_extra_deck</th>\n",
              "      <th>is_fusion</th>\n",
              "      <th>is_link</th>\n",
              "      <th>is_pendulum</th>\n",
              "      <th>is_synchro</th>\n",
              "      <th>is_xyz</th>\n",
              "      <th>link_markers</th>\n",
              "      <th>link_number</th>\n",
              "      <th>materials</th>\n",
              "      <th>monster_types</th>\n",
              "      <th>name_condition</th>\n",
              "      <th>number</th>\n",
              "      <th>pendulum_left</th>\n",
              "      <th>pendulum_right</th>\n",
              "      <th>pendulum_text</th>\n",
              "      <th>releases</th>\n",
              "      <th>Type</th>\n",
              "      <th>stars</th>\n",
              "      <th>text</th>\n",
              "    </tr>\n",
              "  </thead>\n",
              "  <tbody>\n",
              "    <tr>\n",
              "      <th>0</th>\n",
              "      <td>3-Hump Lacooda</td>\n",
              "      <td>500</td>\n",
              "      <td>EARTH</td>\n",
              "      <td>1500</td>\n",
              "      <td>False</td>\n",
              "      <td>False</td>\n",
              "      <td>False</td>\n",
              "      <td>False</td>\n",
              "      <td>False</td>\n",
              "      <td>False</td>\n",
              "      <td>False</td>\n",
              "      <td>False</td>\n",
              "      <td>&lt;NA&gt;</td>\n",
              "      <td>&lt;NA&gt;</td>\n",
              "      <td>&lt;NA&gt;</td>\n",
              "      <td>['Effect']</td>\n",
              "      <td>&lt;NA&gt;</td>\n",
              "      <td>86988864</td>\n",
              "      <td>&lt;NA&gt;</td>\n",
              "      <td>&lt;NA&gt;</td>\n",
              "      <td>&lt;NA&gt;</td>\n",
              "      <td>{'OCG': {\"Pharaoh's Inheritance\": {'Japanese':...</td>\n",
              "      <td>Beast</td>\n",
              "      <td>3</td>\n",
              "      <td>If there are 3 face-up \"3-Hump Lacooda\" cards ...</td>\n",
              "    </tr>\n",
              "    <tr>\n",
              "      <th>1</th>\n",
              "      <td>30,000-Year White Turtle</td>\n",
              "      <td>1250</td>\n",
              "      <td>WATER</td>\n",
              "      <td>2100</td>\n",
              "      <td>False</td>\n",
              "      <td>False</td>\n",
              "      <td>False</td>\n",
              "      <td>False</td>\n",
              "      <td>False</td>\n",
              "      <td>False</td>\n",
              "      <td>False</td>\n",
              "      <td>False</td>\n",
              "      <td>&lt;NA&gt;</td>\n",
              "      <td>&lt;NA&gt;</td>\n",
              "      <td>&lt;NA&gt;</td>\n",
              "      <td>['Normal']</td>\n",
              "      <td>&lt;NA&gt;</td>\n",
              "      <td>11714098</td>\n",
              "      <td>&lt;NA&gt;</td>\n",
              "      <td>&lt;NA&gt;</td>\n",
              "      <td>&lt;NA&gt;</td>\n",
              "      <td>{'OCG': {'Booster 5': {'Japanese': {'set_numbe...</td>\n",
              "      <td>Aqua</td>\n",
              "      <td>5</td>\n",
              "      <td>A huge turtle that has existed for more than 3...</td>\n",
              "    </tr>\n",
              "    <tr>\n",
              "      <th>2</th>\n",
              "      <td>4-Starred Ladybug of Doom</td>\n",
              "      <td>800</td>\n",
              "      <td>WIND</td>\n",
              "      <td>1200</td>\n",
              "      <td>False</td>\n",
              "      <td>False</td>\n",
              "      <td>False</td>\n",
              "      <td>False</td>\n",
              "      <td>False</td>\n",
              "      <td>False</td>\n",
              "      <td>False</td>\n",
              "      <td>False</td>\n",
              "      <td>&lt;NA&gt;</td>\n",
              "      <td>&lt;NA&gt;</td>\n",
              "      <td>&lt;NA&gt;</td>\n",
              "      <td>['Flip', 'Effect']</td>\n",
              "      <td>&lt;NA&gt;</td>\n",
              "      <td>83994646</td>\n",
              "      <td>&lt;NA&gt;</td>\n",
              "      <td>&lt;NA&gt;</td>\n",
              "      <td>&lt;NA&gt;</td>\n",
              "      <td>{'OCG': {'Thousand Eyes Bible': {'Japanese': {...</td>\n",
              "      <td>Insect</td>\n",
              "      <td>3</td>\n",
              "      <td>FLIP: Destroy all Level 4 monsters your oppone...</td>\n",
              "    </tr>\n",
              "    <tr>\n",
              "      <th>3</th>\n",
              "      <td>7 Colored Fish</td>\n",
              "      <td>1800</td>\n",
              "      <td>WATER</td>\n",
              "      <td>800</td>\n",
              "      <td>False</td>\n",
              "      <td>False</td>\n",
              "      <td>False</td>\n",
              "      <td>False</td>\n",
              "      <td>False</td>\n",
              "      <td>False</td>\n",
              "      <td>False</td>\n",
              "      <td>False</td>\n",
              "      <td>&lt;NA&gt;</td>\n",
              "      <td>&lt;NA&gt;</td>\n",
              "      <td>&lt;NA&gt;</td>\n",
              "      <td>['Normal']</td>\n",
              "      <td>&lt;NA&gt;</td>\n",
              "      <td>23771716</td>\n",
              "      <td>&lt;NA&gt;</td>\n",
              "      <td>&lt;NA&gt;</td>\n",
              "      <td>&lt;NA&gt;</td>\n",
              "      <td>{'OCG': {'Vol.7': {'Japanese': {'set_number': ...</td>\n",
              "      <td>Fish</td>\n",
              "      <td>4</td>\n",
              "      <td>A rare rainbow fish that has never been caught...</td>\n",
              "    </tr>\n",
              "    <tr>\n",
              "      <th>4</th>\n",
              "      <td>8-Claws Scorpion</td>\n",
              "      <td>300</td>\n",
              "      <td>DARK</td>\n",
              "      <td>200</td>\n",
              "      <td>False</td>\n",
              "      <td>False</td>\n",
              "      <td>False</td>\n",
              "      <td>False</td>\n",
              "      <td>False</td>\n",
              "      <td>False</td>\n",
              "      <td>False</td>\n",
              "      <td>False</td>\n",
              "      <td>&lt;NA&gt;</td>\n",
              "      <td>&lt;NA&gt;</td>\n",
              "      <td>&lt;NA&gt;</td>\n",
              "      <td>['Effect']</td>\n",
              "      <td>&lt;NA&gt;</td>\n",
              "      <td>14261867</td>\n",
              "      <td>&lt;NA&gt;</td>\n",
              "      <td>&lt;NA&gt;</td>\n",
              "      <td>&lt;NA&gt;</td>\n",
              "      <td>{'OCG': {'Duelist Legacy Volume.5': {'Japanese...</td>\n",
              "      <td>Insect</td>\n",
              "      <td>2</td>\n",
              "      <td>Once per turn, you can flip this card into fac...</td>\n",
              "    </tr>\n",
              "    <tr>\n",
              "      <th>...</th>\n",
              "      <td>...</td>\n",
              "      <td>...</td>\n",
              "      <td>...</td>\n",
              "      <td>...</td>\n",
              "      <td>...</td>\n",
              "      <td>...</td>\n",
              "      <td>...</td>\n",
              "      <td>...</td>\n",
              "      <td>...</td>\n",
              "      <td>...</td>\n",
              "      <td>...</td>\n",
              "      <td>...</td>\n",
              "      <td>...</td>\n",
              "      <td>...</td>\n",
              "      <td>...</td>\n",
              "      <td>...</td>\n",
              "      <td>...</td>\n",
              "      <td>...</td>\n",
              "      <td>...</td>\n",
              "      <td>...</td>\n",
              "      <td>...</td>\n",
              "      <td>...</td>\n",
              "      <td>...</td>\n",
              "      <td>...</td>\n",
              "      <td>...</td>\n",
              "    </tr>\n",
              "    <tr>\n",
              "      <th>5944</th>\n",
              "      <td>ZW - Phoenix Bow</td>\n",
              "      <td>1100</td>\n",
              "      <td>FIRE</td>\n",
              "      <td>0</td>\n",
              "      <td>False</td>\n",
              "      <td>False</td>\n",
              "      <td>False</td>\n",
              "      <td>False</td>\n",
              "      <td>False</td>\n",
              "      <td>False</td>\n",
              "      <td>False</td>\n",
              "      <td>False</td>\n",
              "      <td>&lt;NA&gt;</td>\n",
              "      <td>&lt;NA&gt;</td>\n",
              "      <td>&lt;NA&gt;</td>\n",
              "      <td>['Effect']</td>\n",
              "      <td>&lt;NA&gt;</td>\n",
              "      <td>87008374</td>\n",
              "      <td>&lt;NA&gt;</td>\n",
              "      <td>&lt;NA&gt;</td>\n",
              "      <td>&lt;NA&gt;</td>\n",
              "      <td>{'OCG': {'Return of the Duelist': {'Japanese':...</td>\n",
              "      <td>Winged Beast</td>\n",
              "      <td>3</td>\n",
              "      <td>You can target 1 face-up \"Number C39: Utopia R...</td>\n",
              "    </tr>\n",
              "    <tr>\n",
              "      <th>5945</th>\n",
              "      <td>ZW - Sleipnir Mail</td>\n",
              "      <td>1000</td>\n",
              "      <td>LIGHT</td>\n",
              "      <td>1000</td>\n",
              "      <td>False</td>\n",
              "      <td>False</td>\n",
              "      <td>False</td>\n",
              "      <td>False</td>\n",
              "      <td>False</td>\n",
              "      <td>False</td>\n",
              "      <td>False</td>\n",
              "      <td>False</td>\n",
              "      <td>&lt;NA&gt;</td>\n",
              "      <td>&lt;NA&gt;</td>\n",
              "      <td>&lt;NA&gt;</td>\n",
              "      <td>['Effect']</td>\n",
              "      <td>&lt;NA&gt;</td>\n",
              "      <td>2648201</td>\n",
              "      <td>&lt;NA&gt;</td>\n",
              "      <td>&lt;NA&gt;</td>\n",
              "      <td>&lt;NA&gt;</td>\n",
              "      <td>{'OCG': {'Weekly Sh?nen Jump 2013, Issue 36 pr...</td>\n",
              "      <td>Beast</td>\n",
              "      <td>4</td>\n",
              "      <td>You can target 1 \"Utopia\" monster you control;...</td>\n",
              "    </tr>\n",
              "    <tr>\n",
              "      <th>5946</th>\n",
              "      <td>ZW - Tornado Bringer</td>\n",
              "      <td>1300</td>\n",
              "      <td>WIND</td>\n",
              "      <td>1800</td>\n",
              "      <td>False</td>\n",
              "      <td>False</td>\n",
              "      <td>False</td>\n",
              "      <td>False</td>\n",
              "      <td>False</td>\n",
              "      <td>False</td>\n",
              "      <td>False</td>\n",
              "      <td>False</td>\n",
              "      <td>&lt;NA&gt;</td>\n",
              "      <td>&lt;NA&gt;</td>\n",
              "      <td>&lt;NA&gt;</td>\n",
              "      <td>['Effect']</td>\n",
              "      <td>&lt;NA&gt;</td>\n",
              "      <td>81471108</td>\n",
              "      <td>&lt;NA&gt;</td>\n",
              "      <td>&lt;NA&gt;</td>\n",
              "      <td>&lt;NA&gt;</td>\n",
              "      <td>{'TCG': {'Cosmo Blazer': {'French': {'set_numb...</td>\n",
              "      <td>Dragon</td>\n",
              "      <td>5</td>\n",
              "      <td>You can target 1 \"Utopia\" monster you control;...</td>\n",
              "    </tr>\n",
              "    <tr>\n",
              "      <th>5947</th>\n",
              "      <td>ZW - Ultimate Shield</td>\n",
              "      <td>0</td>\n",
              "      <td>EARTH</td>\n",
              "      <td>2000</td>\n",
              "      <td>False</td>\n",
              "      <td>False</td>\n",
              "      <td>False</td>\n",
              "      <td>False</td>\n",
              "      <td>False</td>\n",
              "      <td>False</td>\n",
              "      <td>False</td>\n",
              "      <td>False</td>\n",
              "      <td>&lt;NA&gt;</td>\n",
              "      <td>&lt;NA&gt;</td>\n",
              "      <td>&lt;NA&gt;</td>\n",
              "      <td>['Effect']</td>\n",
              "      <td>&lt;NA&gt;</td>\n",
              "      <td>18865703</td>\n",
              "      <td>&lt;NA&gt;</td>\n",
              "      <td>&lt;NA&gt;</td>\n",
              "      <td>&lt;NA&gt;</td>\n",
              "      <td>{'TCG': {'Cosmo Blazer': {'French': {'set_numb...</td>\n",
              "      <td>Aqua</td>\n",
              "      <td>4</td>\n",
              "      <td>When this card is Normal or Special Summoned: ...</td>\n",
              "    </tr>\n",
              "    <tr>\n",
              "      <th>5948</th>\n",
              "      <td>ZW - Unicorn Spear</td>\n",
              "      <td>1900</td>\n",
              "      <td>LIGHT</td>\n",
              "      <td>0</td>\n",
              "      <td>False</td>\n",
              "      <td>False</td>\n",
              "      <td>False</td>\n",
              "      <td>False</td>\n",
              "      <td>False</td>\n",
              "      <td>False</td>\n",
              "      <td>False</td>\n",
              "      <td>False</td>\n",
              "      <td>&lt;NA&gt;</td>\n",
              "      <td>&lt;NA&gt;</td>\n",
              "      <td>&lt;NA&gt;</td>\n",
              "      <td>['Effect']</td>\n",
              "      <td>&lt;NA&gt;</td>\n",
              "      <td>76080032</td>\n",
              "      <td>&lt;NA&gt;</td>\n",
              "      <td>&lt;NA&gt;</td>\n",
              "      <td>&lt;NA&gt;</td>\n",
              "      <td>{'OCG': {'Order of Chaos': {'Japanese': {'set_...</td>\n",
              "      <td>Beast</td>\n",
              "      <td>4</td>\n",
              "      <td>You can target 1 \"Number C39: Utopia Ray\" you ...</td>\n",
              "    </tr>\n",
              "  </tbody>\n",
              "</table>\n",
              "<p>5949 rows × 25 columns</p>\n",
              "</div>"
            ],
            "text/plain": [
              "                           name  ...                                               text\n",
              "0                3-Hump Lacooda  ...  If there are 3 face-up \"3-Hump Lacooda\" cards ...\n",
              "1      30,000-Year White Turtle  ...  A huge turtle that has existed for more than 3...\n",
              "2     4-Starred Ladybug of Doom  ...  FLIP: Destroy all Level 4 monsters your oppone...\n",
              "3                7 Colored Fish  ...  A rare rainbow fish that has never been caught...\n",
              "4              8-Claws Scorpion  ...  Once per turn, you can flip this card into fac...\n",
              "...                         ...  ...                                                ...\n",
              "5944           ZW - Phoenix Bow  ...  You can target 1 face-up \"Number C39: Utopia R...\n",
              "5945         ZW - Sleipnir Mail  ...  You can target 1 \"Utopia\" monster you control;...\n",
              "5946       ZW - Tornado Bringer  ...  You can target 1 \"Utopia\" monster you control;...\n",
              "5947       ZW - Ultimate Shield  ...  When this card is Normal or Special Summoned: ...\n",
              "5948         ZW - Unicorn Spear  ...  You can target 1 \"Number C39: Utopia Ray\" you ...\n",
              "\n",
              "[5949 rows x 25 columns]"
            ]
          },
          "metadata": {},
          "execution_count": 8
        }
      ]
    },
    {
      "cell_type": "markdown",
      "metadata": {
        "id": "QqBEjOCJsLlN"
      },
      "source": [
        "# OLS regression model using scilearn"
      ]
    },
    {
      "cell_type": "markdown",
      "metadata": {
        "id": "_hGGXYvxsoRd"
      },
      "source": [
        "# Prediction\n",
        "Using a simple training and test split, split your data into two groups - one for modeling and another for evaluation. Run an OLS regression and comment on the predictive performance. Run a Ridge or Lasso regression with a few different levels of regularization strength."
      ]
    },
    {
      "cell_type": "markdown",
      "metadata": {
        "id": "Ey4Cyu1ntZIG"
      },
      "source": [
        "## Seperate Training and test data"
      ]
    },
    {
      "cell_type": "markdown",
      "metadata": {
        "id": "s1g9Ib-WLEIP"
      },
      "source": [
        "## Fill in NA values"
      ]
    },
    {
      "cell_type": "code",
      "metadata": {
        "colab": {
          "base_uri": "https://localhost:8080/"
        },
        "id": "6v9G5knWLIDM",
        "outputId": "dba0d8dd-c303-407d-f1cc-5a62b5ef26d2"
      },
      "source": [
        "print(dfConverted.isna().sum())\n",
        "dfConverted = dfConverted.fillna({'defense':-5, 'link_markers':'-1', 'link_number':-1,\n",
        "                                  'materials':'NONE','number':-2,'name_condition':'-1',\n",
        "                                  'pendulum_left':-1,'pendulum_right':-1, 'pendulum_text':'NONE',\n",
        "                                  'stars':-1,'text':'NONE'})\n",
        "print(dfConverted.isna().sum())"
      ],
      "execution_count": 9,
      "outputs": [
        {
          "output_type": "stream",
          "name": "stdout",
          "text": [
            "name                     0\n",
            "attack                   0\n",
            "attribute                0\n",
            "defense                107\n",
            "has_materials            0\n",
            "has_name_condition       0\n",
            "is_extra_deck            0\n",
            "is_fusion                0\n",
            "is_link                  0\n",
            "is_pendulum              0\n",
            "is_synchro               0\n",
            "is_xyz                   0\n",
            "link_markers          5842\n",
            "link_number           5842\n",
            "materials             4919\n",
            "monster_types            0\n",
            "name_condition        5943\n",
            "number                  22\n",
            "pendulum_left         5708\n",
            "pendulum_right        5708\n",
            "pendulum_text         5709\n",
            "releases                 0\n",
            "Type                     0\n",
            "stars                  113\n",
            "text                    61\n",
            "dtype: int64\n",
            "name                  0\n",
            "attack                0\n",
            "attribute             0\n",
            "defense               0\n",
            "has_materials         0\n",
            "has_name_condition    0\n",
            "is_extra_deck         0\n",
            "is_fusion             0\n",
            "is_link               0\n",
            "is_pendulum           0\n",
            "is_synchro            0\n",
            "is_xyz                0\n",
            "link_markers          0\n",
            "link_number           0\n",
            "materials             0\n",
            "monster_types         0\n",
            "name_condition        0\n",
            "number                0\n",
            "pendulum_left         0\n",
            "pendulum_right        0\n",
            "pendulum_text         0\n",
            "releases              0\n",
            "Type                  0\n",
            "stars                 0\n",
            "text                  0\n",
            "dtype: int64\n"
          ]
        }
      ]
    },
    {
      "cell_type": "code",
      "metadata": {
        "id": "i_jkegH2tcbD",
        "colab": {
          "base_uri": "https://localhost:8080/"
        },
        "outputId": "054e8555-17f8-4a5c-9414-485edaa1e554"
      },
      "source": [
        "from sklearn.model_selection import train_test_split\n",
        "from matplotlib import pyplot as plt\n",
        "\n",
        "curr_Random_State = 50\n",
        "\n",
        "dfConverted = dfConverted.drop(['text', 'pendulum_text', 'releases', 'number', 'name_condition'], axis=1)\n",
        "featureNames = dfConverted.columns\n",
        "X_training, X_test, y_training, y_test = train_test_split(dfConverted[featureNames], dfConverted['attack'],\n",
        "                                                             test_size=0.25,\n",
        "                                                          random_state = curr_Random_State\n",
        "                                                            )\n",
        "\n",
        "print(f'Training samples: {X_training.shape[0]}')\n",
        "print(f'Test samples: {X_test.shape[0]}')"
      ],
      "execution_count": 10,
      "outputs": [
        {
          "output_type": "stream",
          "name": "stdout",
          "text": [
            "Training samples: 4461\n",
            "Test samples: 1488\n"
          ]
        }
      ]
    },
    {
      "cell_type": "markdown",
      "metadata": {
        "id": "YwOiaOuete64"
      },
      "source": [
        "## Create Feature Processing Pipeline"
      ]
    },
    {
      "cell_type": "code",
      "metadata": {
        "id": "2Gtbt_3gtiXi",
        "colab": {
          "base_uri": "https://localhost:8080/"
        },
        "outputId": "023a2c60-4d5d-4178-c1f4-fdd94bd9c8b9"
      },
      "source": [
        "\n",
        "from sklearn.pipeline import Pipeline\n",
        "from sklearn.compose import ColumnTransformer\n",
        "from sklearn.impute import SimpleImputer\n",
        "from sklearn.preprocessing import OneHotEncoder\n",
        "from sklearn.preprocessing import StandardScaler\n",
        "\n",
        "numericalColumns = dfConverted.select_dtypes(include=['int64'])\n",
        "nonNumericColumns = dfConverted.select_dtypes(exclude=['int64'])\n",
        "\n",
        "cat_vars = []\n",
        "num_vars = []\n",
        "\n",
        "for col in numericalColumns.columns:\n",
        "    num_vars.append(col)\n",
        "for col in nonNumericColumns.columns:\n",
        "    cat_vars.append(col)\n",
        "print(\"categorical variable list = \", cat_vars)\n",
        "print(\"numerical variable list = \", num_vars)\n",
        "\n",
        "\n",
        "num_pipeline = Pipeline([('impute_missing', SimpleImputer(strategy='median')),\n",
        "                           ('standardize_num', StandardScaler())\n",
        "                        ])\n",
        "\n",
        "num_transformer = ColumnTransformer(transformers=[('proc_numeric', num_pipeline, num_vars)])\n",
        "\n",
        "processing_pipeline = ColumnTransformer(transformers=[('proc_numeric', num_pipeline, num_vars),\n",
        "                                                      ('create_dummies', OneHotEncoder(handle_unknown='ignore'), cat_vars)\n",
        "                                                     ]\n",
        "                                        )\n",
        "print(processing_pipeline)\n",
        "#num_pipeline = Pipeline([('impute_missing', SimpleImputer(strategy='median')),\n",
        "#                           ('standardize_num', StandardScaler())\n",
        "#                        ])\n",
        "\n",
        "#cat_pipeline = Pipeline([('impute_missing_cats', SimpleImputer(strategy='most_frequent')),\n",
        "#                          ('create_dummies_cats', OneHotEncoder(handle_unknown='ignore', drop='first'))])\n",
        "\n",
        "#processing_pipeline = ColumnTransformer(transformers=[('proc_numeric', num_pipeline, num_vars),\n",
        "#                                                      ('create_dummies', cat_pipeline, cat_vars)])\n",
        "\n",
        "#print(num_pipeline)\n",
        "#print('\\n')\n",
        "#print(cat_pipeline)\n",
        "#print('\\n')\n",
        "#print(processing_pipeline)"
      ],
      "execution_count": 11,
      "outputs": [
        {
          "output_type": "stream",
          "name": "stdout",
          "text": [
            "categorical variable list =  ['name', 'attribute', 'has_materials', 'has_name_condition', 'is_extra_deck', 'is_fusion', 'is_link', 'is_pendulum', 'is_synchro', 'is_xyz', 'link_markers', 'materials', 'monster_types', 'Type']\n",
            "numerical variable list =  ['attack', 'defense', 'link_number', 'pendulum_left', 'pendulum_right', 'stars']\n",
            "ColumnTransformer(n_jobs=None, remainder='drop', sparse_threshold=0.3,\n",
            "                  transformer_weights=None,\n",
            "                  transformers=[('proc_numeric',\n",
            "                                 Pipeline(memory=None,\n",
            "                                          steps=[('impute_missing',\n",
            "                                                  SimpleImputer(add_indicator=False,\n",
            "                                                                copy=True,\n",
            "                                                                fill_value=None,\n",
            "                                                                missing_values=nan,\n",
            "                                                                strategy='median',\n",
            "                                                                verbose=0)),\n",
            "                                                 ('standardize_num',\n",
            "                                                  StandardScaler(copy=True,\n",
            "                                                                 with_mean=True,\n",
            "                                                                 with_std=True...\n",
            "                                  'pendulum_left', 'pendulum_right', 'stars']),\n",
            "                                ('create_dummies',\n",
            "                                 OneHotEncoder(categories='auto', drop=None,\n",
            "                                               dtype=<class 'numpy.float64'>,\n",
            "                                               handle_unknown='ignore',\n",
            "                                               sparse=True),\n",
            "                                 ['name', 'attribute', 'has_materials',\n",
            "                                  'has_name_condition', 'is_extra_deck',\n",
            "                                  'is_fusion', 'is_link', 'is_pendulum',\n",
            "                                  'is_synchro', 'is_xyz', 'link_markers',\n",
            "                                  'materials', 'monster_types', 'Type'])],\n",
            "                  verbose=False)\n"
          ]
        }
      ]
    },
    {
      "cell_type": "markdown",
      "metadata": {
        "id": "OVG2cOzFtjZq"
      },
      "source": [
        "## Create Modeling Pipeline"
      ]
    },
    {
      "cell_type": "code",
      "metadata": {
        "id": "kZhquGektoYz",
        "colab": {
          "base_uri": "https://localhost:8080/"
        },
        "outputId": "abce2958-af69-4c15-d4b8-29fa749a6e7d"
      },
      "source": [
        "from sklearn.linear_model import LinearRegression\n",
        "\n",
        "modeling_pipeline = Pipeline([('data_processing', processing_pipeline), ('lm', LinearRegression())])\n",
        "modeling_pipeline.fit(X_training, y_training)\n",
        "#This will provide a nessessary error needed to actually run the regression"
      ],
      "execution_count": 12,
      "outputs": [
        {
          "output_type": "execute_result",
          "data": {
            "text/plain": [
              "Pipeline(memory=None,\n",
              "         steps=[('data_processing',\n",
              "                 ColumnTransformer(n_jobs=None, remainder='drop',\n",
              "                                   sparse_threshold=0.3,\n",
              "                                   transformer_weights=None,\n",
              "                                   transformers=[('proc_numeric',\n",
              "                                                  Pipeline(memory=None,\n",
              "                                                           steps=[('impute_missing',\n",
              "                                                                   SimpleImputer(add_indicator=False,\n",
              "                                                                                 copy=True,\n",
              "                                                                                 fill_value=None,\n",
              "                                                                                 missing_values=nan,\n",
              "                                                                                 strategy='median',\n",
              "                                                                                 verbose=0)),\n",
              "                                                                  ('standardize_num',\n",
              "                                                                   Standa...\n",
              "                                                                dtype=<class 'numpy.float64'>,\n",
              "                                                                handle_unknown='ignore',\n",
              "                                                                sparse=True),\n",
              "                                                  ['name', 'attribute',\n",
              "                                                   'has_materials',\n",
              "                                                   'has_name_condition',\n",
              "                                                   'is_extra_deck', 'is_fusion',\n",
              "                                                   'is_link', 'is_pendulum',\n",
              "                                                   'is_synchro', 'is_xyz',\n",
              "                                                   'link_markers', 'materials',\n",
              "                                                   'monster_types', 'Type'])],\n",
              "                                   verbose=False)),\n",
              "                ('lm',\n",
              "                 LinearRegression(copy_X=True, fit_intercept=True, n_jobs=None,\n",
              "                                  normalize=False))],\n",
              "         verbose=False)"
            ]
          },
          "metadata": {},
          "execution_count": 12
        }
      ]
    },
    {
      "cell_type": "markdown",
      "metadata": {
        "id": "FYrLFLQztrf0"
      },
      "source": [
        "## Results\n",
        "### Coefficients"
      ]
    },
    {
      "cell_type": "code",
      "metadata": {
        "id": "ZqkdO0uktwER",
        "colab": {
          "base_uri": "https://localhost:8080/"
        },
        "outputId": "ecae562b-ae04-4b20-be57-81556ef91ecc"
      },
      "source": [
        "modeling_pipeline['lm'].coef_"
      ],
      "execution_count": 13,
      "outputs": [
        {
          "output_type": "execute_result",
          "data": {
            "text/plain": [
              "array([ 9.23253916e+02,  4.26056019e-02,  1.38085050e-01, ...,\n",
              "       -1.10472571e-02,  4.50100466e-02,  8.37710020e-02])"
            ]
          },
          "metadata": {},
          "execution_count": 13
        }
      ]
    },
    {
      "cell_type": "markdown",
      "metadata": {
        "id": "RQYBvpZkt1Cy"
      },
      "source": [
        "### Model's performance"
      ]
    },
    {
      "cell_type": "code",
      "metadata": {
        "id": "LmZL-DYmt3Ic",
        "colab": {
          "base_uri": "https://localhost:8080/"
        },
        "outputId": "8f3a6c1b-2e67-4a60-da97-f53d3a3a35b7"
      },
      "source": [
        "print(\"Training R^2: \", modeling_pipeline.score(X_training, y_training))\n",
        "print(\"Test R^2: \", modeling_pipeline.score(X_test, y_test))"
      ],
      "execution_count": 14,
      "outputs": [
        {
          "output_type": "stream",
          "name": "stdout",
          "text": [
            "Training R^2:  0.9999999999999922\n",
            "Test R^2:  0.9999998675959489\n"
          ]
        }
      ]
    },
    {
      "cell_type": "markdown",
      "metadata": {
        "id": "VKG-trcbuD_h"
      },
      "source": [
        "Conclusion of this model's results:\n",
        "For random state 50, the training R^2 was super close to the test R^2 and really high. So much so that I believe it could be sampling error"
      ]
    },
    {
      "cell_type": "markdown",
      "metadata": {
        "id": "gu9BgWCwuJn_"
      },
      "source": [
        "### Over or underfitting"
      ]
    },
    {
      "cell_type": "code",
      "metadata": {
        "id": "pUDIQlkbuQFS",
        "colab": {
          "base_uri": "https://localhost:8080/",
          "height": 295
        },
        "outputId": "f1bf7053-993a-46ca-bcc1-f2fce11dfebd"
      },
      "source": [
        "yhat_test = modeling_pipeline.predict(X_test)\n",
        "\n",
        "plt.plot(y_test, yhat_test, 'bo', alpha=0.5)\n",
        "plt.xlabel('Actual')\n",
        "plt.ylabel('Predicted')\n",
        "plt.title('Actuals vs. Predictions')\n",
        "plt.show()"
      ],
      "execution_count": 15,
      "outputs": [
        {
          "output_type": "display_data",
          "data": {
            "image/png": "[encoded data removed]",
            "text/plain": [
              "<Figure size 432x288 with 1 Axes>"
            ]
          },
          "metadata": {
            "needs_background": "light"
          }
        }
      ]
    },
    {
      "cell_type": "markdown",
      "metadata": {
        "id": "UQJyNLVSuUWp"
      },
      "source": [
        "### Checking Residuals"
      ]
    },
    {
      "cell_type": "code",
      "metadata": {
        "id": "tBP62lj3uXvn",
        "colab": {
          "base_uri": "https://localhost:8080/",
          "height": 281
        },
        "outputId": "ded80736-3d6b-4167-cf4e-a79ecf8405d7"
      },
      "source": [
        "yhat_residuals = y_test - yhat_test\n",
        "\n",
        "plt.hist(yhat_residuals, bins=25)\n",
        "plt.title('Residual Distribution')\n",
        "plt.show()"
      ],
      "execution_count": 16,
      "outputs": [
        {
          "output_type": "display_data",
          "data": {
            "image/png": "[encoded data removed]",
            "text/plain": [
              "<Figure size 432x288 with 1 Axes>"
            ]
          },
          "metadata": {
            "needs_background": "light"
          }
        }
      ]
    },
    {
      "cell_type": "code",
      "metadata": {
        "id": "FafEeeoYubKZ",
        "colab": {
          "base_uri": "https://localhost:8080/",
          "height": 295
        },
        "outputId": "92dce285-aa47-4e94-970f-0f027d545e28"
      },
      "source": [
        "plt.plot(yhat_test, yhat_residuals, 'ro', alpha=0.25)\n",
        "plt.hlines(0,0,60)\n",
        "plt.xlim(0,60)\n",
        "plt.title('Predictions vs. Residuals')\n",
        "plt.xlabel('Predicted')\n",
        "plt.ylabel('Residual')\n",
        "plt.show()"
      ],
      "execution_count": 17,
      "outputs": [
        {
          "output_type": "display_data",
          "data": {
            "image/png": "[encoded data removed]",
            "text/plain": [
              "<Figure size 432x288 with 1 Axes>"
            ]
          },
          "metadata": {
            "needs_background": "light"
          }
        }
      ]
    },
    {
      "cell_type": "markdown",
      "metadata": {
        "id": "2XEqFYpnu2RH"
      },
      "source": [
        "# OLS"
      ]
    },
    {
      "cell_type": "code",
      "metadata": {
        "id": "2bZ0KhNMu44_"
      },
      "source": [
        "def gradientDescent(x, y, theta, alpha, m, numIterations):\n",
        "    thetaHistory = list()\n",
        "    \n",
        "    xTrans = x.transpose()\n",
        "    costList = list()\n",
        "    \n",
        "    for i in range(0, numIterations):\n",
        "        # data x feature weights = y_hat\n",
        "        hypothesis = np.dot(x, theta)\n",
        "        # how far we are off\n",
        "        loss = hypothesis - y \n",
        "        # mse\n",
        "        cost = np.sum(loss ** 2) / (2 * m)\n",
        "        costList.append(cost)\n",
        "\n",
        "        # avg gradient per example\n",
        "        gradient = np.dot(xTrans, loss) / m \n",
        "\n",
        "        # update\n",
        "        theta = theta - alpha * gradient\n",
        "        thetaHistory.append(theta)\n",
        "        \n",
        "    return thetaHistory, costList"
      ],
      "execution_count": 18,
      "outputs": []
    },
    {
      "cell_type": "code",
      "metadata": {
        "id": "_RPpcaVBTSYU"
      },
      "source": [
        "data_pipeline = Pipeline([('data_processing', processing_pipeline)])\n",
        "data_pipeline.fit(X_training)\n",
        "gs_training_data = data_pipeline.fit_transform(X_training)"
      ],
      "execution_count": 19,
      "outputs": []
    },
    {
      "cell_type": "markdown",
      "metadata": {
        "id": "ch8n1qZgu6hw"
      },
      "source": [
        "Running the OLS"
      ]
    },
    {
      "cell_type": "code",
      "metadata": {
        "id": "HSzxwZ54u-j7"
      },
      "source": [
        "import datetime\n",
        "\n",
        "start_ts = datetime.datetime.now()\n",
        "betaHistory, costList = gradientDescent(gs_training_data,y_training,\n",
        "                                        theta=np.zeros(gs_training_data.shape[1]),\n",
        "                                        alpha=0.01,\n",
        "                                        m=gs_training_data.shape[0], numIterations=5000)\n",
        "                                                                 \n",
        "end_ts = datetime.datetime.now()\n",
        "\n",
        "print(f'Completed in {end_ts-start_ts}')"
      ],
      "execution_count": null,
      "outputs": []
    },
    {
      "cell_type": "markdown",
      "metadata": {
        "id": "xUBVS0NzvFMb"
      },
      "source": [
        "### OLS result"
      ]
    },
    {
      "cell_type": "code",
      "metadata": {
        "id": "i77TzPu6vIim"
      },
      "source": [
        "\n",
        "plt.plot(costList)\n",
        "plt.title(f'Final cost: {costList[-1]:,.2f}', loc='left')\n",
        "plt.show()"
      ],
      "execution_count": null,
      "outputs": []
    },
    {
      "cell_type": "markdown",
      "metadata": {
        "id": "wUN755RnvMt8"
      },
      "source": [
        "Changes in Beta over the iterations"
      ]
    },
    {
      "cell_type": "code",
      "metadata": {
        "id": "gQEOWUJJvPK3"
      },
      "source": [
        "from collections import defaultdict\n",
        "thetas = defaultdict(list)\n",
        "\n",
        "for i in range(len(betaHistory)):\n",
        "    for j in range(len(betaHistory[i])):\n",
        "        thetas[j].append(betaHistory[i][j])\n",
        "        \n",
        "thetasD = pd.DataFrame.from_dict(thetas)\n",
        "thetasD.plot(legend=False)\n",
        "plt.title('Beta Estimates')\n",
        "plt.ylabel('Coefficient')\n",
        "plt.xlabel('Iteration')\n",
        "plt.show()"
      ],
      "execution_count": null,
      "outputs": []
    },
    {
      "cell_type": "markdown",
      "metadata": {
        "id": "Avl2H9lAveN1"
      },
      "source": [
        "Predictions after OLS"
      ]
    },
    {
      "cell_type": "code",
      "metadata": {
        "id": "3D5Y-lDXvhA2"
      },
      "source": [
        "gs_betas = betaHistory[4999]\n",
        "gs_predictions = np.dot(gs_training_data, gs_betas)\n",
        "\n",
        "plt.plot(y_training, gs_predictions, 'bo', alpha=0.4)\n",
        "plt.xlabel('Actual')\n",
        "plt.ylabel('Predicted')\n",
        "plt.title('Gradient Descent Regression Fit on Training Data')\n",
        "plt.show()"
      ],
      "execution_count": null,
      "outputs": []
    },
    {
      "cell_type": "markdown",
      "metadata": {
        "id": "F_Lzzb-earIn"
      },
      "source": [
        "#RIDGE"
      ]
    },
    {
      "cell_type": "code",
      "metadata": {
        "colab": {
          "base_uri": "https://localhost:8080/"
        },
        "id": "rGEhPiIratCb",
        "outputId": "cd2ca72c-165a-47be-e8d1-9f32f0de4845"
      },
      "source": [
        "from sklearn.linear_model import Ridge\n",
        "\n",
        "modeling_pipeline_ridge = Pipeline([('data_processing', processing_pipeline), ('ridge', Ridge(alpha=0))])\n",
        "modeling_pipeline_ridge.fit(X_training, y_training)\n",
        "modeling_pipeline_ridge['ridge'].coef_"
      ],
      "execution_count": 20,
      "outputs": [
        {
          "output_type": "execute_result",
          "data": {
            "text/plain": [
              "array([ 9.23192725e+02,  8.14035932e-02,  1.99984925e-01, ...,\n",
              "       -2.66577858e-01,  3.25875302e-01,  7.46717527e-01])"
            ]
          },
          "metadata": {},
          "execution_count": 20
        }
      ]
    },
    {
      "cell_type": "code",
      "metadata": {
        "colab": {
          "base_uri": "https://localhost:8080/"
        },
        "id": "p1fzHx9QbEeb",
        "outputId": "84bd02f8-54fb-4331-b044-2842c2a3f5c6"
      },
      "source": [
        "modeling_pipeline['lm'].coef_"
      ],
      "execution_count": 21,
      "outputs": [
        {
          "output_type": "execute_result",
          "data": {
            "text/plain": [
              "array([ 9.23253916e+02,  4.26056019e-02,  1.38085050e-01, ...,\n",
              "       -1.10472571e-02,  4.50100466e-02,  8.37710020e-02])"
            ]
          },
          "metadata": {},
          "execution_count": 21
        }
      ]
    },
    {
      "cell_type": "markdown",
      "metadata": {
        "id": "nEBtDUfUbGHm"
      },
      "source": [
        "The coefficients seem to be really close to the regular one except each parameter seems to have much less of an effect in the ridge version. Each of the coefficient are closer to 0 in general."
      ]
    },
    {
      "cell_type": "code",
      "metadata": {
        "colab": {
          "base_uri": "https://localhost:8080/"
        },
        "id": "_3DAuPHdbLvH",
        "outputId": "ae66e11e-ed6c-46bf-83e1-dbea26809d67"
      },
      "source": [
        "from collections import defaultdict\n",
        "alphas = [0, 1, 2, 5, 10, 50]\n",
        "\n",
        "ridge_results = defaultdict(dict)\n",
        "\n",
        "for alph in alphas:\n",
        "    modeling_pipeline_ridge = Pipeline([('data_processing', processing_pipeline), ('ridge', Ridge(alpha=alph))])\n",
        "    modeling_pipeline_ridge.fit(X_training, y_training)\n",
        "    ridge_results['coefficients'][alph] = modeling_pipeline_ridge['ridge'].coef_\n",
        "    ridge_results['training score'][alph] = modeling_pipeline_ridge.score(X_training, y_training)\n",
        "    ridge_results['test score'][alph] = modeling_pipeline_ridge.score(X_test, y_test)\n",
        "    \n",
        "print('Finished')"
      ],
      "execution_count": 22,
      "outputs": [
        {
          "output_type": "stream",
          "name": "stdout",
          "text": [
            "Finished\n"
          ]
        }
      ]
    },
    {
      "cell_type": "code",
      "metadata": {
        "colab": {
          "base_uri": "https://localhost:8080/",
          "height": 295
        },
        "id": "TeN8NRb-bNpc",
        "outputId": "74dc0230-13db-48e8-847e-f1a6a9a8c92d"
      },
      "source": [
        "coefficients = pd.DataFrame.from_dict(ridge_results['coefficients'])\n",
        "coefficients = coefficients.reset_index()\n",
        "coefficients = coefficients.rename(columns={'index':'coefficient_nbr'})\n",
        "coefficients = coefficients.melt(id_vars='coefficient_nbr', var_name='alpha', value_name='coefficient')\n",
        "\n",
        "(\n",
        "coefficients.pivot_table(index='alpha', columns='coefficient_nbr', values='coefficient')\n",
        "    .plot(figsize=(8,4),legend=False)\n",
        ")\n",
        "\n",
        "plt.title('Ridge Coefficients', loc='left')\n",
        "plt.xlabel('Alpha (Regularization Amount)')\n",
        "plt.ylabel('Coefficient')\n",
        "plt.ylim((-10, 10))\n",
        "plt.show()"
      ],
      "execution_count": 23,
      "outputs": [
        {
          "output_type": "display_data",
          "data": {
            "image/png": "[encoded data removed]",
            "text/plain": [
              "<Figure size 576x288 with 1 Axes>"
            ]
          },
          "metadata": {
            "needs_background": "light"
          }
        }
      ]
    },
    {
      "cell_type": "markdown",
      "metadata": {
        "id": "vhyTm6JViXbQ"
      },
      "source": [
        "as the alphas rise, the coefficients in each of the models act in their own uniwue way. None of the coefficents seem to go past negative 5 but they are not positively bounded in any way."
      ]
    },
    {
      "cell_type": "code",
      "metadata": {
        "colab": {
          "base_uri": "https://localhost:8080/",
          "height": 299
        },
        "id": "nFVP8BBFbTSK",
        "outputId": "a061617a-8e93-40bc-9ea2-529d124a00ed"
      },
      "source": [
        "ridge_training_r2 = pd.Series(ridge_results['training score'])\n",
        "ridge_test_r2 = pd.Series(ridge_results['test score'])\n",
        "\n",
        "ridge_training_r2.plot()\n",
        "ridge_test_r2.plot()\n",
        "plt.title('$R^2$ for Ridge Regression')\n",
        "plt.legend(['Training','Test'])\n",
        "plt.xlabel('Alpha (Regularization Level)')\n",
        "plt.ylabel('Percent of Variance Explained')\n",
        "plt.ylim(0.4, 1)\n",
        "plt.show()"
      ],
      "execution_count": 24,
      "outputs": [
        {
          "output_type": "display_data",
          "data": {
            "image/png": "[encoded data removed]",
            "text/plain": [
              "<Figure size 432x288 with 1 Axes>"
            ]
          },
          "metadata": {
            "needs_background": "light"
          }
        }
      ]
    },
    {
      "cell_type": "markdown",
      "metadata": {
        "id": "l-FSkjMYi6m8"
      },
      "source": [
        "I find it interesting that no matter what model i use, the R^2 refuses to show up on the graph"
      ]
    },
    {
      "cell_type": "markdown",
      "metadata": {
        "id": "yZ-2L41DvpWr"
      },
      "source": [
        "## LASSO"
      ]
    },
    {
      "cell_type": "code",
      "metadata": {
        "id": "bswlMmjgvq80",
        "colab": {
          "base_uri": "https://localhost:8080/"
        },
        "outputId": "c86c69cc-029f-4115-cacd-4ad994a19d97"
      },
      "source": [
        "from sklearn.linear_model import Lasso\n",
        "from collections import defaultdict\n",
        "\n",
        "alphas = [1, 2, 5, 10, 25, 50, 100, 250, 500, 1000]\n",
        "\n",
        "lasso_results = defaultdict(dict)\n",
        "\n",
        "for alph in alphas:\n",
        "    modeling_pipeline_lasso = Pipeline([('data_processing', processing_pipeline), ('lasso', Lasso(alpha=alph))])\n",
        "    modeling_pipeline_lasso.fit(X_training, y_training)\n",
        "    lasso_results['coefficients'][alph] = modeling_pipeline_lasso['lasso'].coef_\n",
        "    lasso_results['training score'][alph] = modeling_pipeline_lasso.score(X_training, y_training)\n",
        "    lasso_results['test score'][alph] = modeling_pipeline_lasso.score(X_test, y_test)\n",
        "    \n",
        "print('Finished')"
      ],
      "execution_count": null,
      "outputs": [
        {
          "output_type": "stream",
          "name": "stdout",
          "text": [
            "Finished\n"
          ]
        }
      ]
    },
    {
      "cell_type": "markdown",
      "metadata": {
        "id": "IBDqlisdvuwy"
      },
      "source": [
        "### Lasso Coeffs"
      ]
    },
    {
      "cell_type": "code",
      "metadata": {
        "id": "9a5GsIt1vsyZ",
        "colab": {
          "base_uri": "https://localhost:8080/",
          "height": 295
        },
        "outputId": "452faacc-d112-4502-fb7f-66cbdaa6d38d"
      },
      "source": [
        "coefficients = pd.DataFrame.from_dict(lasso_results['coefficients'])\n",
        "coefficients = coefficients.reset_index()\n",
        "coefficients = coefficients.rename(columns={'index':'coefficient_nbr'})\n",
        "coefficients = coefficients.melt(id_vars='coefficient_nbr', var_name='alpha', value_name='coefficient')\n",
        "\n",
        "coefficients.pivot_table(index='alpha', columns='coefficient_nbr', values='coefficient').plot(figsize=(8,4))\n",
        "plt.title('Lasso Coefficients', loc='left')\n",
        "plt.xlabel('Alpha (Regularization Amount)')\n",
        "plt.ylabel('Coefficient')\n",
        "plt.legend('')\n",
        "plt.show()"
      ],
      "execution_count": null,
      "outputs": [
        {
          "output_type": "display_data",
          "data": {
            "image/png": "[encoded data removed]",
            "text/plain": [
              "<Figure size 576x288 with 1 Axes>"
            ]
          },
          "metadata": {
            "needs_background": "light"
          }
        }
      ]
    },
    {
      "cell_type": "markdown",
      "metadata": {
        "id": "-0_fOR5dvz94"
      },
      "source": [
        "Lasso changes in R^2"
      ]
    },
    {
      "cell_type": "code",
      "metadata": {
        "id": "zWKtk1bHv2Bz",
        "colab": {
          "base_uri": "https://localhost:8080/",
          "height": 299
        },
        "outputId": "4e8c1f44-9906-42d7-af4f-f85cd3350a03"
      },
      "source": [
        "lasso_training_r2 = pd.Series(lasso_results['training score'])\n",
        "lasso_test_r2 = pd.Series(lasso_results['test score'])\n",
        "\n",
        "lasso_training_r2.plot()\n",
        "lasso_test_r2.plot()\n",
        "plt.title('$R^2$ for Lasso Regression')\n",
        "plt.legend(['Training','Test'])\n",
        "plt.xlabel('Alpha (Regularization Level)')\n",
        "plt.ylabel('Percent of Variance Explained')\n",
        "plt.show()"
      ],
      "execution_count": null,
      "outputs": [
        {
          "output_type": "display_data",
          "data": {
            "image/png": "[encoded data removed]",
            "text/plain": [
              "<Figure size 432x288 with 1 Axes>"
            ]
          },
          "metadata": {
            "needs_background": "light"
          }
        }
      ]
    },
    {
      "cell_type": "markdown",
      "metadata": {
        "id": "4PEJ-2DTs360"
      },
      "source": [
        "Answer the following:\n",
        "* Does this help or hurt performance?\n",
        "  * Lasso seems to help the performance. the training line is directly on top of the test line. None of the other techniques has the training and test lines right on top of each other.\n",
        "* What happens as you increase the regularization strength? \n",
        "  * As I increase the regularization strength, the percent of varience drops.\n",
        "* How do the coefficients compare with OLS? \n",
        "  * The coefficients seem to get closer to each other more quickly than in OLS\n"
      ]
    }
  ]
}